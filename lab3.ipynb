{
 "cells": [
  {
   "cell_type": "markdown",
   "id": "add42d36",
   "metadata": {},
   "source": [
    "#### Лабораторная работа № 3. Разработка нейросетевых функций. Операция Convolution Transpose\n",
    "#### Новиков М.С. БВТ2003"
   ]
  },
  {
   "cell_type": "code",
   "execution_count": 41,
   "id": "cfafbcef",
   "metadata": {},
   "outputs": [],
   "source": [
    "import torch\n",
    "import torch.nn.functional as F\n",
    "import numpy as np"
   ]
  },
  {
   "cell_type": "code",
   "execution_count": 42,
   "id": "daae9537",
   "metadata": {
    "scrolled": true
   },
   "outputs": [],
   "source": [
    "class ConvTranspose:\n",
    "    def __init__(self, in_channels, out_channels, kernel_size, stride=1, padding=0, \n",
    "                 output_padding=0, groups=1, bias=True, dilation=1, padding_mode='zeros'):\n",
    "        \"параметры транспонированной свертки\"\n",
    "        self.in_channels = in_channels       \n",
    "        self.out_channels = out_channels     \n",
    "        self.kernel_size = kernel_size       \n",
    "        self.stride = stride                \n",
    "        self.padding = padding               \n",
    "        self.output_padding = output_padding \n",
    "        self.dilation = dilation             \n",
    "        self.groups = groups                 \n",
    "        self.bias = bias                     \n",
    "        self.padding_mode = padding_mode     \n",
    "        \n",
    "        self.weight = torch.nn.Parameter(torch.rand(in_channels, out_channels, *kernel_size))\n",
    "\n",
    "        if bias:\n",
    "            self.bias_param = torch.nn.Parameter(torch.rand(out_channels))\n",
    "        else:\n",
    "            self.bias_param = None\n",
    "\n",
    "    def forward(self, input):\n",
    "        \"Nранспонированная свертка на входных данных\"\n",
    "        if self.padding_mode != 'zeros':\n",
    "            raise ValueError('Поддерживается только режим паддинга \"zeros\" в ConvTranspose2d')\n",
    "\n",
    "        filter_for_transpose = torch.flip(self.weight, [2, 3])\n",
    "\n",
    "        out_tensor = F.conv_transpose2d(\n",
    "            input, filter_for_transpose, bias=self.bias_param,\n",
    "            stride=self.stride, padding=self.padding, output_padding=self.output_padding,\n",
    "            dilation=self.dilation, groups=1  # groups=1, так как в текущей реализации нет поддержки групп\n",
    "        )\n",
    "\n",
    "        if self.output_padding > 0:\n",
    "            pad_func = torch.nn.ConstantPad2d((0, self.output_padding, 0, self.output_padding), 0)\n",
    "            out_tensor = pad_func(out_tensor)\n",
    "\n",
    "        out_tensor = out_tensor[:, :, self.padding:out_tensor.shape[2] - self.padding,\n",
    "                                   self.padding:out_tensor.shape[3] - self.padding]\n",
    "\n",
    "        rounded_result = torch.round(out_tensor * 1e9) / 1e9\n",
    "\n",
    "        return rounded_result"
   ]
  },
  {
   "cell_type": "code",
   "execution_count": 43,
   "id": "35b942e7",
   "metadata": {},
   "outputs": [],
   "source": [
    "def test_conv_transpose():\n",
    "    \"Тестирование класса ConvTranspose на транспонированной свертке\"\n",
    "    conv_transpose = ConvTranspose(\n",
    "        in_channels=1, out_channels=1, kernel_size=(3, 3),\n",
    "        stride=2, padding=1, output_padding=1\n",
    "    )\n",
    "    x = torch.ones((1, 1, 4, 4)) \n",
    "    result = conv_transpose.forward(x)\n",
    "    print(\"Тестовый пример:\")\n",
    "    print(f\"Input:\\n{x}\\n\")\n",
    "    print(f\"Output:\\n{result}\")\n",
    "\n",
    "    filter_for_transpose = torch.flip(conv_transpose.weight, [2, 3])\n",
    "    expected_result = F.conv_transpose2d(\n",
    "        x, filter_for_transpose, bias=conv_transpose.bias_param,\n",
    "        stride=conv_transpose.stride, padding=conv_transpose.padding,\n",
    "        output_padding=conv_transpose.output_padding, dilation=conv_transpose.dilation, groups=1\n",
    "    )\n",
    "    print(f\"\\nОжидаемый результат:\\n{expected_result}\")\n"
   ]
  },
  {
   "cell_type": "code",
   "execution_count": 44,
   "id": "709b54d0",
   "metadata": {},
   "outputs": [
    {
     "name": "stdout",
     "output_type": "stream",
     "text": [
      "Тестовый пример:\n",
      "Input:\n",
      "tensor([[[[1., 1., 1., 1.],\n",
      "          [1., 1., 1., 1.],\n",
      "          [1., 1., 1., 1.],\n",
      "          [1., 1., 1., 1.]]]])\n",
      "\n",
      "Output:\n",
      "tensor([[[[1.9207, 1.8786, 1.9207, 1.8786, 1.9207, 1.8786, 1.6648],\n",
      "          [1.1782, 1.4292, 1.1782, 1.4292, 1.1782, 1.4292, 0.7736],\n",
      "          [1.9207, 1.8786, 1.9207, 1.8786, 1.9207, 1.8786, 1.6648],\n",
      "          [1.1782, 1.4292, 1.1782, 1.4292, 1.1782, 1.4292, 0.7736],\n",
      "          [1.9207, 1.8786, 1.9207, 1.8786, 1.9207, 1.8786, 1.6648],\n",
      "          [1.1782, 1.4292, 1.1782, 1.4292, 1.1782, 1.4292, 0.7736],\n",
      "          [1.4218, 1.2507, 1.4218, 1.2507, 1.4218, 1.2507, 1.2058]]]],\n",
      "       grad_fn=<DivBackward0>)\n",
      "\n",
      "Ожидаемый результат:\n",
      "tensor([[[[1.4292, 1.1782, 1.4292, 1.1782, 1.4292, 1.1782, 1.4292, 0.7736],\n",
      "          [1.8786, 1.9207, 1.8786, 1.9207, 1.8786, 1.9207, 1.8786, 1.6648],\n",
      "          [1.4292, 1.1782, 1.4292, 1.1782, 1.4292, 1.1782, 1.4292, 0.7736],\n",
      "          [1.8786, 1.9207, 1.8786, 1.9207, 1.8786, 1.9207, 1.8786, 1.6648],\n",
      "          [1.4292, 1.1782, 1.4292, 1.1782, 1.4292, 1.1782, 1.4292, 0.7736],\n",
      "          [1.8786, 1.9207, 1.8786, 1.9207, 1.8786, 1.9207, 1.8786, 1.6648],\n",
      "          [1.4292, 1.1782, 1.4292, 1.1782, 1.4292, 1.1782, 1.4292, 0.7736],\n",
      "          [1.2507, 1.4218, 1.2507, 1.4218, 1.2507, 1.4218, 1.2507, 1.2058]]]],\n",
      "       grad_fn=<ConvolutionBackward0>)\n"
     ]
    }
   ],
   "source": [
    "test_conv_transpose()"
   ]
  },
  {
   "cell_type": "markdown",
   "id": "c4cc153a",
   "metadata": {},
   "source": []
  },
  {
   "cell_type": "markdown",
   "id": "84b9504a",
   "metadata": {},
   "source": [
    "#### Дополнительное задание :\n",
    "#### Необходимо реализовать алгоритм работы транспонированной свертки через алгоритм двумерной свертки, реализованный в первой лабораторной"
   ]
  },
  {
   "cell_type": "code",
   "execution_count": 1,
   "id": "779b765d",
   "metadata": {},
   "outputs": [],
   "source": [
    "import torch\n",
    "import numpy as np\n",
    "from typing import Union"
   ]
  },
  {
   "cell_type": "code",
   "execution_count": 13,
   "id": "be56a9b4",
   "metadata": {},
   "outputs": [],
   "source": [
    "class Conv2DTranspose:\n",
    "    def __init__(self, in_channels: int, out_channels: int, kernel_size: Union[int, tuple], stride: Union[int, tuple] = 1) -> None:\n",
    "        \"Конструктор класса Conv2DTranspose\"\n",
    "        self.in_channels = in_channels     \n",
    "        self.out_channels = out_channels   \n",
    "        self.kernel_size = kernel_size     \n",
    "        self.stride = stride               \n",
    "\n",
    "        if isinstance(kernel_size, int):\n",
    "            kernel_size = (kernel_size, kernel_size)\n",
    "\n",
    "        self.weights = np.random.randn(in_channels, out_channels, *kernel_size) \n",
    "        self.bias = np.zeros((out_channels,))\n",
    "\n",
    "    def forward(self, input_tensor: np.ndarray) -> np.ndarray:\n",
    "        \"Метод для выполнения операции транспонированной свертки\"\n",
    "        batch_size, in_channels, input_height, input_width = input_tensor.shape\n",
    "        kernel_size = self.kernel_size\n",
    "\n",
    "        if isinstance(kernel_size, int):\n",
    "            kernel_size = (kernel_size, kernel_size)\n",
    "\n",
    "        if isinstance(self.stride, int):\n",
    "            stride_h = stride_w = self.stride\n",
    "        elif isinstance(self.stride, tuple) and len(self.stride) == 2:\n",
    "            stride_h, stride_w = self.stride\n",
    "        else:\n",
    "            raise ValueError(\"Недопустимый формат шага. Должно быть целое число или кортеж из двух целых чисел\")\n",
    "\n",
    "        output_height = (input_height - 1) * stride_h + kernel_size[0]\n",
    "        output_width = (input_width - 1) * stride_w + kernel_size[1]\n",
    "\n",
    "        result = np.zeros((batch_size, self.out_channels, output_height, output_width))\n",
    "\n",
    "        for i in range(input_height):\n",
    "            for j in range(input_width):\n",
    "                window = input_tensor[:, :, i, j]\n",
    "                result[:, :, i * stride_h:i * stride_h + kernel_size[0], j * stride_w:j * stride_w + kernel_size[1]] += \\\n",
    "                    np.tensordot(window, self.weights, axes=(1, 0))\n",
    "\n",
    "        return result"
   ]
  },
  {
   "cell_type": "code",
   "execution_count": 14,
   "id": "cba47aed",
   "metadata": {},
   "outputs": [],
   "source": [
    "def run_transpose_test(in_channels: int, out_channels: int, kernel_size: Union[int, tuple], stride: Union[int, tuple],\n",
    "                        padding: Union[int, tuple], dilation: int, groups: int, bias: bool, padding_mode: str) -> None:\n",
    "    \"Функция для выполнения теста операции транспонированной свертки\"\n",
    "    conv_transpose_layer = Conv2DTranspose(in_channels=in_channels, out_channels=out_channels, kernel_size=kernel_size, stride=stride)\n",
    "\n",
    "    input_tensor = np.random.randn(1, in_channels, 10, 10)\n",
    "\n",
    "    result_conv2d_transpose = conv_transpose_layer.forward(input_tensor)\n",
    "\n",
    "    input_tensor_torch = torch.tensor(input_tensor)\n",
    "    if isinstance(conv_transpose_layer.stride, int):  \n",
    "        stride_h = stride_w = conv_transpose_layer.stride\n",
    "    elif isinstance(conv_transpose_layer.stride, tuple) and len(conv_transpose_layer.stride) == 2:\n",
    "        stride_h, stride_w = conv_transpose_layer.stride\n",
    "    else:\n",
    "        raise ValueError(\"Недопустимый формат шага. Должно быть целое число или кортеж из двух целых чисел\")\n",
    "\n",
    "    output_tensor_torch = torch.nn.functional.conv_transpose2d(input_tensor_torch,\n",
    "                                                               torch.tensor(conv_transpose_layer.weights),\n",
    "                                                               bias=torch.tensor(conv_transpose_layer.bias),\n",
    "                                                               stride=(stride_h, stride_w),\n",
    "                                                               padding=padding,\n",
    "                                                               output_padding=stride_h - 1,\n",
    "                                                               dilation=dilation,\n",
    "                                                               groups=groups).numpy()\n",
    "\n",
    "    min_height = min(result_conv2d_transpose.shape[2], output_tensor_torch.shape[2])\n",
    "    min_width = min(result_conv2d_transpose.shape[3], output_tensor_torch.shape[3])\n",
    "    result_conv2d_transpose = result_conv2d_transpose[:, :, :min_height, :min_width]\n",
    "    output_tensor_torch = output_tensor_torch[:, :, :min_height, :min_width]\n",
    "\n",
    "    are_results_equal = np.allclose(result_conv2d_transpose, output_tensor_torch)\n",
    "\n",
    "    print(f\"Тест с параметрами:\")\n",
    "    print(f\"  - in_channels: {in_channels}\")\n",
    "    print(f\"  - out_channels: {out_channels}\")\n",
    "    print(f\"  - kernel_size: {kernel_size}\")\n",
    "    print(f\"  - stride: {stride}\")\n",
    "    print(f\"  - padding: {padding}\")\n",
    "    print(f\"  - dilation: {dilation}\")\n",
    "    print(f\"  - groups: {groups}\")\n",
    "    print(f\"  - bias: {bias}\")\n",
    "    print(f\"  - padding_mode: {padding_mode}\")\n",
    "    print(f\"\\nРезультат транспонированной свертки совпадает: {are_results_equal}\")\n",
    "    print(f\"\\n{'-'*75}\\n\")"
   ]
  },
  {
   "cell_type": "code",
   "execution_count": 19,
   "id": "ab8da5b5",
   "metadata": {},
   "outputs": [],
   "source": [
    "def test_transpose_params():\n",
    "    \"Функция для тестирования различных параметров операции свертки\"\n",
    "    run_transpose_test(in_channels=3, out_channels=2, kernel_size=3, stride=(2, 2), padding=0, dilation=1, groups=1, bias=True, padding_mode='zeros')\n",
    "\n",
    "    run_transpose_test(in_channels=4, out_channels=2, kernel_size=(2, 3), stride=(2, 3), padding=(1, 1), dilation=1, groups=1, bias=True, padding_mode='replicate')\n"
   ]
  },
  {
   "cell_type": "code",
   "execution_count": 20,
   "id": "36d32d50",
   "metadata": {},
   "outputs": [
    {
     "name": "stdout",
     "output_type": "stream",
     "text": [
      "Тест с параметрами:\n",
      "  - in_channels: 3\n",
      "  - out_channels: 2\n",
      "  - kernel_size: 3\n",
      "  - stride: (2, 2)\n",
      "  - padding: 0\n",
      "  - dilation: 1\n",
      "  - groups: 1\n",
      "  - bias: True\n",
      "  - padding_mode: zeros\n",
      "\n",
      "Результат транспонированной свертки совпадает: True\n",
      "\n",
      "---------------------------------------------------------------------------\n",
      "\n",
      "Тест с параметрами:\n",
      "  - in_channels: 4\n",
      "  - out_channels: 2\n",
      "  - kernel_size: (2, 3)\n",
      "  - stride: (2, 3)\n",
      "  - padding: (1, 1)\n",
      "  - dilation: 1\n",
      "  - groups: 1\n",
      "  - bias: True\n",
      "  - padding_mode: replicate\n",
      "\n",
      "Результат транспонированной свертки совпадает: False\n",
      "\n",
      "---------------------------------------------------------------------------\n",
      "\n"
     ]
    }
   ],
   "source": [
    "test_transpose_params()"
   ]
  },
  {
   "cell_type": "markdown",
   "id": "933a6da8",
   "metadata": {},
   "source": []
  }
 ],
 "metadata": {
  "kernelspec": {
   "display_name": "Python 3 (ipykernel)",
   "language": "python",
   "name": "python3"
  },
  "language_info": {
   "codemirror_mode": {
    "name": "ipython",
    "version": 3
   },
   "file_extension": ".py",
   "mimetype": "text/x-python",
   "name": "python",
   "nbconvert_exporter": "python",
   "pygments_lexer": "ipython3",
   "version": "3.11.6"
  }
 },
 "nbformat": 4,
 "nbformat_minor": 5
}
